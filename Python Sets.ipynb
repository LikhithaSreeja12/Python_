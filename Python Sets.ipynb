{
 "cells": [
  {
   "cell_type": "markdown",
   "id": "0a9e5911",
   "metadata": {},
   "source": [
    "# Sets "
   ]
  },
  {
   "cell_type": "markdown",
   "id": "346a3a98",
   "metadata": {},
   "source": [
    "# Sets are used to store multiple items in a single variable.\n",
    "# A set is a collection which is unordered, unchangeable, and unindexed."
   ]
  },
  {
   "cell_type": "code",
   "execution_count": 1,
   "id": "3e4ab12b",
   "metadata": {},
   "outputs": [
    {
     "data": {
      "text/plain": [
       "{'aiswarya', 'lasya', 'sowjanya', 'sree'}"
      ]
     },
     "execution_count": 1,
     "metadata": {},
     "output_type": "execute_result"
    }
   ],
   "source": [
    "my_friends = {\"sowjanya\",\"lasya\",\"aiswarya\",\"sree\"}\n",
    "my_friends"
   ]
  },
  {
   "cell_type": "markdown",
   "id": "f93ce025",
   "metadata": {},
   "source": [
    "# Duplicates are ignored in set"
   ]
  },
  {
   "cell_type": "markdown",
   "id": "fb9d9174",
   "metadata": {},
   "source": [
    "# Sets cannot have two items with the same value."
   ]
  },
  {
   "cell_type": "code",
   "execution_count": 2,
   "id": "320135cd",
   "metadata": {},
   "outputs": [
    {
     "data": {
      "text/plain": [
       "{'aiswarya', 'lasya', 'sowjanya', 'sree'}"
      ]
     },
     "execution_count": 2,
     "metadata": {},
     "output_type": "execute_result"
    }
   ],
   "source": [
    "my_friends = {\"sowjanya\",\"lasya\",\"aiswarya\",\"sree\",\"sree\"}\n",
    "my_friends"
   ]
  },
  {
   "cell_type": "markdown",
   "id": "d78cbd25",
   "metadata": {},
   "source": [
    "# len() : Used to find the length of set"
   ]
  },
  {
   "cell_type": "code",
   "execution_count": 3,
   "id": "d221b437",
   "metadata": {},
   "outputs": [
    {
     "name": "stdout",
     "output_type": "stream",
     "text": [
      "4\n"
     ]
    }
   ],
   "source": [
    "print(len(my_friends))"
   ]
  },
  {
   "cell_type": "markdown",
   "id": "e3071849",
   "metadata": {},
   "source": [
    "# Set items can have different data types"
   ]
  },
  {
   "cell_type": "code",
   "execution_count": 5,
   "id": "ca439653",
   "metadata": {},
   "outputs": [
    {
     "name": "stdout",
     "output_type": "stream",
     "text": [
      "{2002, 'ukkusuri', 'lasya'}\n"
     ]
    }
   ],
   "source": [
    "my_friends = {\"lasya\",2002,\"ukkusuri\"}\n",
    "print(my_friends)"
   ]
  },
  {
   "cell_type": "code",
   "execution_count": 8,
   "id": "f8db4447",
   "metadata": {},
   "outputs": [
    {
     "name": "stdout",
     "output_type": "stream",
     "text": [
      "{'sriya', 'anju'}\n",
      "{'True', 'False'}\n",
      "{2001, 2002}\n"
     ]
    }
   ],
   "source": [
    "set1 = {\"sriya\",\"anju\"}\n",
    "set2 = {\"True\",\"False\"}\n",
    "set3 = {2002,2001}\n",
    "print(set1)\n",
    "print(set2)\n",
    "print(set3)"
   ]
  },
  {
   "cell_type": "markdown",
   "id": "ecd192da",
   "metadata": {},
   "source": [
    "# Operations on Sets"
   ]
  },
  {
   "cell_type": "markdown",
   "id": "f595d01e",
   "metadata": {},
   "source": [
    "# 1) add() :  Once a set is created, you cannot change its items, but you can add new items."
   ]
  },
  {
   "cell_type": "code",
   "execution_count": 22,
   "id": "16e8b42c",
   "metadata": {},
   "outputs": [
    {
     "data": {
      "text/plain": [
       "{'aiswarya', 'lasya', 'sowjanya', 'sree', 'sriya'}"
      ]
     },
     "execution_count": 22,
     "metadata": {},
     "output_type": "execute_result"
    }
   ],
   "source": [
    "my_friends = {\"sowjanya\",\"lasya\",\"aiswarya\",\"sree\"}\n",
    "my_friends.add(\"sriya\")\n",
    "my_friends"
   ]
  },
  {
   "cell_type": "markdown",
   "id": "251ba46e",
   "metadata": {},
   "source": [
    "# To add items from another set into the current set, use the update() method."
   ]
  },
  {
   "cell_type": "markdown",
   "id": "8e3aa146",
   "metadata": {},
   "source": [
    "# Removing set items"
   ]
  },
  {
   "cell_type": "markdown",
   "id": "8b438102",
   "metadata": {},
   "source": [
    "# 1) To remove an item in a set, using the remove() "
   ]
  },
  {
   "cell_type": "code",
   "execution_count": 26,
   "id": "6fe875a3",
   "metadata": {},
   "outputs": [
    {
     "data": {
      "text/plain": [
       "{'aiswarya', 'lasya', 'sowjanya'}"
      ]
     },
     "execution_count": 26,
     "metadata": {},
     "output_type": "execute_result"
    }
   ],
   "source": [
    "my_friends = {\"sowjanya\",\"lasya\",\"aiswarya\",\"sree\"}\n",
    "my_friends.remove(\"sree\")\n",
    "my_friends"
   ]
  },
  {
   "cell_type": "markdown",
   "id": "244caf51",
   "metadata": {},
   "source": [
    "# 2) To remove an item in a set,using discard() method"
   ]
  },
  {
   "cell_type": "code",
   "execution_count": 27,
   "id": "8cf123c0",
   "metadata": {},
   "outputs": [
    {
     "data": {
      "text/plain": [
       "{'aiswarya', 'sowjanya'}"
      ]
     },
     "execution_count": 27,
     "metadata": {},
     "output_type": "execute_result"
    }
   ],
   "source": [
    "my_friends.discard(\"lasya\")\n",
    "my_friends"
   ]
  },
  {
   "cell_type": "markdown",
   "id": "0a6a2099",
   "metadata": {},
   "source": [
    "# 2) pop() : Removes the last element"
   ]
  },
  {
   "cell_type": "code",
   "execution_count": 29,
   "id": "410d5db6",
   "metadata": {},
   "outputs": [
    {
     "data": {
      "text/plain": [
       "{'aiswarya'}"
      ]
     },
     "execution_count": 29,
     "metadata": {},
     "output_type": "execute_result"
    }
   ],
   "source": [
    "my_friends.pop()\n",
    "my_friends"
   ]
  },
  {
   "cell_type": "markdown",
   "id": "be385240",
   "metadata": {},
   "source": [
    "# 3) clear() : The clear() method empties the set"
   ]
  },
  {
   "cell_type": "code",
   "execution_count": 32,
   "id": "9bf042f6",
   "metadata": {},
   "outputs": [
    {
     "data": {
      "text/plain": [
       "set()"
      ]
     },
     "execution_count": 32,
     "metadata": {},
     "output_type": "execute_result"
    }
   ],
   "source": [
    "my_friends.clear()\n",
    "my_friends"
   ]
  },
  {
   "cell_type": "markdown",
   "id": "3b4c1570",
   "metadata": {},
   "source": [
    "# 4) del() : The del keyword will delete the set completely"
   ]
  },
  {
   "cell_type": "code",
   "execution_count": 35,
   "id": "07a34215",
   "metadata": {},
   "outputs": [
    {
     "data": {
      "text/plain": [
       "{'aiswarya', 'lasya', 'sowjanya', 'sree'}"
      ]
     },
     "execution_count": 35,
     "metadata": {},
     "output_type": "execute_result"
    }
   ],
   "source": [
    "my_friends = {\"sowjanya\",\"lasya\",\"aiswarya\",\"sree\"}\n",
    "\n",
    "my_friends"
   ]
  },
  {
   "cell_type": "code",
   "execution_count": null,
   "id": "973d5048",
   "metadata": {},
   "outputs": [],
   "source": [
    "my_friends = {\"sowjanya\",\"lasya\",\"aiswarya\",\"sree\"}\n",
    "del my_friends\n",
    "print(my_friends) #This will raise an error because the set no longer exists"
   ]
  },
  {
   "cell_type": "markdown",
   "id": "a8313dd2",
   "metadata": {},
   "source": [
    "# Joins"
   ]
  },
  {
   "cell_type": "markdown",
   "id": "8598115b",
   "metadata": {},
   "source": [
    "# 1) Union : The union() method returns a new set with all items from both sets:"
   ]
  },
  {
   "cell_type": "code",
   "execution_count": 2,
   "id": "2965f811",
   "metadata": {},
   "outputs": [
    {
     "name": "stdout",
     "output_type": "stream",
     "text": [
      "{2000, 2001, 2002, 'lahari', 'geeta', 'sriya'}\n"
     ]
    }
   ],
   "source": [
    "set1 = {\"lahari\", \"geeta\" , \"sriya\"}\n",
    "set2 = {2000,2001,2002}\n",
    "\n",
    "set3 = set1.union(set2)\n",
    "print(set3)"
   ]
  },
  {
   "cell_type": "markdown",
   "id": "ec9107d9",
   "metadata": {},
   "source": [
    "# 2) Update : The update() method inserts the items in set2 into set1"
   ]
  },
  {
   "cell_type": "code",
   "execution_count": 4,
   "id": "a518bfed",
   "metadata": {},
   "outputs": [
    {
     "name": "stdout",
     "output_type": "stream",
     "text": [
      "{2000, 2001, 2002, 'lahari', 'geeta', 'sriya'}\n"
     ]
    }
   ],
   "source": [
    "set1 = {\"lahari\", \"geeta\" , \"sriya\"}\n",
    "set2 = {2000,2001,2002}\n",
    "set1.update(set2)\n",
    "print(set1)"
   ]
  },
  {
   "cell_type": "markdown",
   "id": "f998fb70",
   "metadata": {},
   "source": [
    "# Note : Both union() and update() will exclude any duplicate items."
   ]
  },
  {
   "cell_type": "markdown",
   "id": "6e73cd31",
   "metadata": {},
   "source": [
    "# 3) intersection_update() : This method will keep only the items that are present in both sets."
   ]
  },
  {
   "cell_type": "code",
   "execution_count": 5,
   "id": "6aac1573",
   "metadata": {},
   "outputs": [
    {
     "name": "stdout",
     "output_type": "stream",
     "text": [
      "{'apple'}\n"
     ]
    }
   ],
   "source": [
    "x = {\"apple\", \"banana\", \"cherry\"}\n",
    "y = {\"google\", \"microsoft\", \"apple\"}\n",
    "\n",
    "x.intersection_update(y)\n",
    "\n",
    "print(x)"
   ]
  },
  {
   "cell_type": "markdown",
   "id": "7dee1b7d",
   "metadata": {},
   "source": [
    "# 4) symmetric_difference_update() : This method will keep only the elements that are NOT present in both sets."
   ]
  },
  {
   "cell_type": "code",
   "execution_count": 6,
   "id": "3f4f669b",
   "metadata": {},
   "outputs": [
    {
     "name": "stdout",
     "output_type": "stream",
     "text": [
      "{'cherry', 'microsoft', 'banana', 'google'}\n"
     ]
    }
   ],
   "source": [
    "x = {\"apple\", \"banana\", \"cherry\"}\n",
    "y = {\"google\", \"microsoft\", \"apple\"}\n",
    "\n",
    "x.symmetric_difference_update(y)\n",
    "\n",
    "print(x)"
   ]
  }
 ],
 "metadata": {
  "kernelspec": {
   "display_name": "Python 3 (ipykernel)",
   "language": "python",
   "name": "python3"
  },
  "language_info": {
   "codemirror_mode": {
    "name": "ipython",
    "version": 3
   },
   "file_extension": ".py",
   "mimetype": "text/x-python",
   "name": "python",
   "nbconvert_exporter": "python",
   "pygments_lexer": "ipython3",
   "version": "3.9.12"
  }
 },
 "nbformat": 4,
 "nbformat_minor": 5
}
