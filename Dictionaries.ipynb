{
 "cells": [
  {
   "cell_type": "markdown",
   "id": "c344a3d0",
   "metadata": {},
   "source": [
    "# Dictionaries"
   ]
  },
  {
   "cell_type": "markdown",
   "id": "e5556689",
   "metadata": {},
   "source": [
    "\n",
    "# Dictionaries are used to store data values in key:value pairs.\n",
    "\n",
    "# A dictionary is a collection which is ordered, changeable \n",
    "\n",
    "# Dictionaries does not allow duplicate values"
   ]
  },
  {
   "cell_type": "code",
   "execution_count": 2,
   "id": "1a1f9b4f",
   "metadata": {},
   "outputs": [
    {
     "name": "stdout",
     "output_type": "stream",
     "text": [
      "{'sowjanya': 'varada', 'Lasya': 'ukkusuri', 'aiswarya': 'tavva', 'sree': 'kakarlapudi'}\n"
     ]
    }
   ],
   "source": [
    "friends = dict([\n",
    "    (\"sowjanya\" , \"varada\"),\n",
    "    (\"Lasya\" , \"ukkusuri\"),\n",
    "    (\"aiswarya\" , \"tavva\"),\n",
    "    (\"sree\" , \"kakarlapudi\")\n",
    "])\n",
    "\n",
    "print(friends)"
   ]
  },
  {
   "cell_type": "markdown",
   "id": "3d2b4e88",
   "metadata": {},
   "source": [
    "# In oreder to access the values we use associate key value"
   ]
  },
  {
   "cell_type": "code",
   "execution_count": 7,
   "id": "8b39c565",
   "metadata": {},
   "outputs": [
    {
     "name": "stdout",
     "output_type": "stream",
     "text": [
      "ukkusuri\n",
      "varada\n"
     ]
    }
   ],
   "source": [
    "print(friends[\"Lasya\"])\n",
    "print(friends[\"sowjanya\"])"
   ]
  },
  {
   "cell_type": "markdown",
   "id": "066a09a6",
   "metadata": {},
   "source": [
    "# Operations on dictionaries"
   ]
  },
  {
   "cell_type": "markdown",
   "id": "a275ed2c",
   "metadata": {},
   "source": [
    "# 1) len : It returns the length of the key-value pairs in a dictionary."
   ]
  },
  {
   "cell_type": "code",
   "execution_count": 11,
   "id": "9a166d6b",
   "metadata": {},
   "outputs": [
    {
     "data": {
      "text/plain": [
       "4"
      ]
     },
     "execution_count": 11,
     "metadata": {},
     "output_type": "execute_result"
    }
   ],
   "source": [
    "len(friends)"
   ]
  },
  {
   "cell_type": "markdown",
   "id": "56612821",
   "metadata": {},
   "source": [
    "# 2) in : It allows us to check whether a key exists inside a dictionary or not"
   ]
  },
  {
   "cell_type": "code",
   "execution_count": 13,
   "id": "ee04577f",
   "metadata": {},
   "outputs": [
    {
     "data": {
      "text/plain": [
       "True"
      ]
     },
     "execution_count": 13,
     "metadata": {},
     "output_type": "execute_result"
    }
   ],
   "source": [
    "\"Lasya\" in friends"
   ]
  },
  {
   "cell_type": "code",
   "execution_count": 14,
   "id": "77679662",
   "metadata": {},
   "outputs": [
    {
     "data": {
      "text/plain": [
       "True"
      ]
     },
     "execution_count": 14,
     "metadata": {},
     "output_type": "execute_result"
    }
   ],
   "source": [
    "\"sree\" in friends"
   ]
  },
  {
   "cell_type": "markdown",
   "id": "acd40dbb",
   "metadata": {},
   "source": [
    "# 3) Keys : It returns the keys of the dictionary"
   ]
  },
  {
   "cell_type": "code",
   "execution_count": 20,
   "id": "d2f56695",
   "metadata": {},
   "outputs": [
    {
     "data": {
      "text/plain": [
       "dict_keys(['sowjanya', 'Lasya', 'aiswarya', 'sree'])"
      ]
     },
     "execution_count": 20,
     "metadata": {},
     "output_type": "execute_result"
    }
   ],
   "source": [
    "friends.keys()"
   ]
  },
  {
   "cell_type": "markdown",
   "id": "ecfaeac4",
   "metadata": {},
   "source": [
    "# 4) Values : It returns the values of the dictionary"
   ]
  },
  {
   "cell_type": "code",
   "execution_count": 21,
   "id": "db2ac7d8",
   "metadata": {},
   "outputs": [
    {
     "data": {
      "text/plain": [
       "dict_values(['varada', 'ukkusuri', 'tavva', 'kakarlapudi'])"
      ]
     },
     "execution_count": 21,
     "metadata": {},
     "output_type": "execute_result"
    }
   ],
   "source": [
    "friends.values()"
   ]
  },
  {
   "cell_type": "markdown",
   "id": "5d4bd35c",
   "metadata": {},
   "source": [
    "# 5) items : It returns the items of the dictionary as a sequence of key-value tuples."
   ]
  },
  {
   "cell_type": "code",
   "execution_count": 22,
   "id": "4b540222",
   "metadata": {},
   "outputs": [
    {
     "data": {
      "text/plain": [
       "dict_items([('sowjanya', 'varada'), ('Lasya', 'ukkusuri'), ('aiswarya', 'tavva'), ('sree', 'kakarlapudi')])"
      ]
     },
     "execution_count": 22,
     "metadata": {},
     "output_type": "execute_result"
    }
   ],
   "source": [
    "friends.items()"
   ]
  },
  {
   "cell_type": "markdown",
   "id": "72bcdfa6",
   "metadata": {},
   "source": [
    "# 6) popitem : It removes the last key-value pair from the dictionary and returns that."
   ]
  },
  {
   "cell_type": "code",
   "execution_count": 23,
   "id": "e8e5dd57",
   "metadata": {},
   "outputs": [
    {
     "data": {
      "text/plain": [
       "('sree', 'kakarlapudi')"
      ]
     },
     "execution_count": 23,
     "metadata": {},
     "output_type": "execute_result"
    }
   ],
   "source": [
    "friends.popitem()"
   ]
  },
  {
   "cell_type": "markdown",
   "id": "476f2317",
   "metadata": {},
   "source": [
    "# 7) pop : It removes the key-value pair associated with the given key"
   ]
  },
  {
   "cell_type": "code",
   "execution_count": 27,
   "id": "afeb0214",
   "metadata": {},
   "outputs": [
    {
     "data": {
      "text/plain": [
       "'tavva'"
      ]
     },
     "execution_count": 27,
     "metadata": {},
     "output_type": "execute_result"
    }
   ],
   "source": [
    "friends.pop(\"aiswarya\")"
   ]
  },
  {
   "cell_type": "markdown",
   "id": "aadf557f",
   "metadata": {},
   "source": [
    "# 8) update : It merges a dictionary with another dictionary"
   ]
  },
  {
   "cell_type": "code",
   "execution_count": 32,
   "id": "2ce3d9cf",
   "metadata": {},
   "outputs": [],
   "source": [
    "new_friends = {\n",
    "    \"sriya\" : \"gundu\",\n",
    "    \"saranya\" : \"penmacha\",\n",
    "    \"valli\" : \"andey\"\n",
    "}\n",
    "friends.update(new_friends)"
   ]
  },
  {
   "cell_type": "code",
   "execution_count": 33,
   "id": "2cb775ae",
   "metadata": {},
   "outputs": [
    {
     "data": {
      "text/plain": [
       "{'sowjanya': 'varada',\n",
       " 'Lasya': 'ukkusuri',\n",
       " 'sriya': 'gundu',\n",
       " 'saranya': 'penmacha',\n",
       " 'valli': 'andey'}"
      ]
     },
     "execution_count": 33,
     "metadata": {},
     "output_type": "execute_result"
    }
   ],
   "source": [
    "friends"
   ]
  },
  {
   "cell_type": "markdown",
   "id": "48a861c6",
   "metadata": {},
   "source": [
    "# 9) get : It gets the value associated with the given key"
   ]
  },
  {
   "cell_type": "code",
   "execution_count": 34,
   "id": "2230501d",
   "metadata": {},
   "outputs": [
    {
     "data": {
      "text/plain": [
       "'ukkusuri'"
      ]
     },
     "execution_count": 34,
     "metadata": {},
     "output_type": "execute_result"
    }
   ],
   "source": [
    "friends.get(\"Lasya\")"
   ]
  },
  {
   "cell_type": "code",
   "execution_count": 36,
   "id": "95e825b0",
   "metadata": {},
   "outputs": [
    {
     "data": {
      "text/plain": [
       "'gundu'"
      ]
     },
     "execution_count": 36,
     "metadata": {},
     "output_type": "execute_result"
    }
   ],
   "source": [
    "friends.get(\"sriya\")"
   ]
  },
  {
   "cell_type": "markdown",
   "id": "1ee3f207",
   "metadata": {},
   "source": [
    "# 10) clear : it clears the dictionary"
   ]
  },
  {
   "cell_type": "code",
   "execution_count": 39,
   "id": "e9ecd06b",
   "metadata": {},
   "outputs": [
    {
     "data": {
      "text/plain": [
       "{}"
      ]
     },
     "execution_count": 39,
     "metadata": {},
     "output_type": "execute_result"
    }
   ],
   "source": [
    "friends.clear()\n",
    "friends"
   ]
  },
  {
   "cell_type": "markdown",
   "id": "707304e7",
   "metadata": {},
   "source": [
    "# What is ordered dictionary"
   ]
  },
  {
   "cell_type": "code",
   "execution_count": null,
   "id": "27c26f1e",
   "metadata": {},
   "outputs": [],
   "source": [
    "An OrderedDictionary is a dictionary subclass that remembers the order that keys were first inserted."
   ]
  },
  {
   "cell_type": "code",
   "execution_count": 41,
   "id": "e57c7dcf",
   "metadata": {},
   "outputs": [
    {
     "name": "stdout",
     "output_type": "stream",
     "text": [
      "{'sowjanya': 'varada', 'Lasya': 'ukkusuri', 'aiswarya': 'tavva', 'sree': 'kakarlapudi'}\n",
      "sowjanya varada\n",
      "Lasya ukkusuri\n",
      "aiswarya tavva\n",
      "sree kakarlapudi\n",
      "sowjanya varada\n",
      "Lasya ukkusuri\n",
      "aiswarya tavva\n",
      "sree kakarlapudi\n"
     ]
    }
   ],
   "source": [
    "from collections import OrderedDict\n",
    " \n",
    "friends = dict([\n",
    "    (\"sowjanya\" , \"varada\"),\n",
    "    (\"Lasya\" , \"ukkusuri\"),\n",
    "    (\"aiswarya\" , \"tavva\"),\n",
    "    (\"sree\" , \"kakarlapudi\")\n",
    "])\n",
    "\n",
    "print(friends)\n",
    "for key, value in friends.items():\n",
    "    print(key, value)\n",
    "    \n",
    "od = OrderedDict()\n",
    "od[\"sowjanya\"] = \"varada\"\n",
    "od[\"Lasya\"] = \"ukkusuri\"\n",
    "od[\"aiswarya\"] = \"tavva\"\n",
    "od[\"sree\"] = \"kakarlapudi\"\n",
    " \n",
    "for key, value in od.items():\n",
    "    print(key, value) \n"
   ]
  },
  {
   "cell_type": "markdown",
   "id": "329a2fa1",
   "metadata": {},
   "source": [
    "# Why we use ordered dictionary "
   ]
  },
  {
   "cell_type": "markdown",
   "id": "8999fc94",
   "metadata": {},
   "source": [
    "# Because it preserves the order in which key-value pairs, commonly known as items, are inserted into the dictionary"
   ]
  },
  {
   "cell_type": "markdown",
   "id": "9eb00efc",
   "metadata": {},
   "source": [
    "# How to convert a list to dictioanry"
   ]
  },
  {
   "cell_type": "markdown",
   "id": "85a78eba",
   "metadata": {},
   "source": [
    "# To convert a list to dictionary, we can use list comprehension \n",
    "# Make a key:value pair of consecutive elements. Finally, typecase the list to dict type. \n",
    " "
   ]
  },
  {
   "cell_type": "code",
   "execution_count": 44,
   "id": "1e43b280",
   "metadata": {},
   "outputs": [
    {
     "name": "stdout",
     "output_type": "stream",
     "text": [
      "{'sowjanya': 'varada', 'lasya': 'ukkusuri', 'aiswarya': 'tavva'}\n"
     ]
    }
   ],
   "source": [
    "def Convert(list):\n",
    "    d = {list[i]: list[i + 1] for i in range(0, len(list), 2)}\n",
    "    return d\n",
    "         \n",
    "\n",
    "list = ['sowjanya', \"varada\", 'lasya', \"ukkusuri\", 'aiswarya', \"tavva\"]\n",
    "print(Convert(list))"
   ]
  },
  {
   "cell_type": "markdown",
   "id": "9f26e029",
   "metadata": {},
   "source": [
    "# How to convert a dictinary into list ??"
   ]
  },
  {
   "cell_type": "markdown",
   "id": "4ac49fff",
   "metadata": {},
   "source": [
    "# One of the method to convert dictionary to list is using list comprehension"
   ]
  },
  {
   "cell_type": "code",
   "execution_count": 45,
   "id": "9cfb67f7",
   "metadata": {},
   "outputs": [
    {
     "name": "stdout",
     "output_type": "stream",
     "text": [
      "[('sowjanya', 10), ('lasya', 12), ('sree', 31)]\n"
     ]
    }
   ],
   "source": [
    "dict1 = { 'sowjanya': 10, 'lasya': 12, 'sree': 31 }\n",
    " \n",
    "# Converting into list of tuple\n",
    "list = [(k, v) for k, v in dict1.items()]\n",
    " \n",
    "\n",
    "print(list)"
   ]
  },
  {
   "cell_type": "markdown",
   "id": "5a809304",
   "metadata": {},
   "source": [
    "# Nested Dictionaries "
   ]
  },
  {
   "cell_type": "markdown",
   "id": "95b0be34",
   "metadata": {},
   "source": [
    "# A dictionary can contain dictionaries, this is called nested dictionaries."
   ]
  },
  {
   "cell_type": "code",
   "execution_count": 51,
   "id": "7289d68c",
   "metadata": {},
   "outputs": [
    {
     "data": {
      "text/plain": [
       "{'sowjanya': {'lastname': 'Varada', 'year': 2002},\n",
       " 'lasya': {'lastname': 'Ukkusuri', 'year': 2002},\n",
       " 'sree': {'lastname': 'Kakarlapudi', 'year': 2004},\n",
       " 'aishwarya': {'lastname': 'Tavva', 'year': 2001}}"
      ]
     },
     "execution_count": 51,
     "metadata": {},
     "output_type": "execute_result"
    }
   ],
   "source": [
    "myfriends ={\n",
    "    \"sowjanya\" : {\n",
    "        \"lastname\" : \"Varada\",\n",
    "        \"year\" : 2002\n",
    "    },\n",
    "    \"lasya\" : {\n",
    "        \"lastname\" : \"Ukkusuri\",\n",
    "        \"year\" : 2002\n",
    "    },\n",
    "    \"sree\" : {\n",
    "        \"lastname\" : \"Kakarlapudi\",\n",
    "        \"year\" : 2004\n",
    "    },\n",
    "    \"aishwarya\" : {\n",
    "        \"lastname\" : \"Tavva\",\n",
    "        \"year\" : 2001\n",
    "    }\n",
    "}\n",
    "\n",
    "myfriends"
   ]
  },
  {
   "cell_type": "code",
   "execution_count": null,
   "id": "80d1ddf7",
   "metadata": {},
   "outputs": [],
   "source": []
  },
  {
   "cell_type": "code",
   "execution_count": null,
   "id": "63001ee5",
   "metadata": {},
   "outputs": [],
   "source": []
  }
 ],
 "metadata": {
  "kernelspec": {
   "display_name": "Python 3 (ipykernel)",
   "language": "python",
   "name": "python3"
  },
  "language_info": {
   "codemirror_mode": {
    "name": "ipython",
    "version": 3
   },
   "file_extension": ".py",
   "mimetype": "text/x-python",
   "name": "python",
   "nbconvert_exporter": "python",
   "pygments_lexer": "ipython3",
   "version": "3.9.12"
  }
 },
 "nbformat": 4,
 "nbformat_minor": 5
}
