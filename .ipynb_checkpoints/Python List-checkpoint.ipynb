{
 "cells": [
  {
   "cell_type": "markdown",
   "id": "3a6d8ff4",
   "metadata": {},
   "source": [
    "#                                              LIST"
   ]
  },
  {
   "cell_type": "code",
   "execution_count": null,
   "id": "247b4b69",
   "metadata": {},
   "outputs": [],
   "source": [
    "# Lists are one of the most frequently used built-in data structures in Python."
   ]
  },
  {
   "cell_type": "code",
   "execution_count": null,
   "id": "7b98cf3b",
   "metadata": {},
   "outputs": [],
   "source": [
    "# Lists  are mutable,dynamic,ordered and array type (sequence)"
   ]
  },
  {
   "cell_type": "code",
   "execution_count": 1,
   "id": "f2960ae2",
   "metadata": {},
   "outputs": [
    {
     "data": {
      "text/plain": [
       "[1, 2, 3, 4, 5]"
      ]
     },
     "execution_count": 1,
     "metadata": {},
     "output_type": "execute_result"
    }
   ],
   "source": [
    "# List creation\n",
    "\n",
    "list = [1,2,3,4,5]\n",
    "list"
   ]
  },
  {
   "cell_type": "code",
   "execution_count": 3,
   "id": "6bd17539",
   "metadata": {},
   "outputs": [
    {
     "data": {
      "text/plain": [
       "['hello', 'jam', 'ramu', 'rama']"
      ]
     },
     "execution_count": 3,
     "metadata": {},
     "output_type": "execute_result"
    }
   ],
   "source": [
    "list1 =  [\"hello\",\"jam\",\"ramu\",\"rama\"]\n",
    "list1"
   ]
  },
  {
   "cell_type": "code",
   "execution_count": 4,
   "id": "37d2a851",
   "metadata": {},
   "outputs": [
    {
     "data": {
      "text/plain": [
       "[1, 'ram', 3, 'hi', 4.5]"
      ]
     },
     "execution_count": 4,
     "metadata": {},
     "output_type": "execute_result"
    }
   ],
   "source": [
    "list2 = [1,\"ram\",3,\"hi\",4.5]\n",
    "list2"
   ]
  },
  {
   "cell_type": "code",
   "execution_count": 7,
   "id": "af029427",
   "metadata": {},
   "outputs": [
    {
     "name": "stdout",
     "output_type": "stream",
     "text": [
      "1\n",
      "rama\n",
      "4.5\n"
     ]
    }
   ],
   "source": [
    "#Indexing --> Elements can be accessed through their indexes \n",
    "\n",
    "print(list[0]) # prints 1\n",
    "print(list1[3]) # prints rama\n",
    "print(list2[-1]) #prints 4.5 --> -1 represents the order from th last or the back"
   ]
  },
  {
   "cell_type": "code",
   "execution_count": 8,
   "id": "8565c994",
   "metadata": {},
   "outputs": [
    {
     "name": "stdout",
     "output_type": "stream",
     "text": [
      "[1, 2]\n",
      "['hello', 'jam', 'ramu']\n",
      "[1, 'ram', 3]\n"
     ]
    }
   ],
   "source": [
    "# Slicing [start,end] --> starts with the number given and does not include the end element \n",
    "\n",
    "print(list[0:2]) #prints 1,2\n",
    "print(list1[:3]) #prints hello,jam,ramu\n",
    "print(list2[:-2]) #prints 3,ram,1"
   ]
  },
  {
   "cell_type": "code",
   "execution_count": 15,
   "id": "5feaa73c",
   "metadata": {},
   "outputs": [
    {
     "data": {
      "text/plain": [
       "False"
      ]
     },
     "execution_count": 15,
     "metadata": {},
     "output_type": "execute_result"
    }
   ],
   "source": [
    "# Membership\n",
    "\n",
    "'5' in list # prints false"
   ]
  },
  {
   "cell_type": "code",
   "execution_count": 14,
   "id": "fe58ccfa",
   "metadata": {},
   "outputs": [
    {
     "data": {
      "text/plain": [
       "True"
      ]
     },
     "execution_count": 14,
     "metadata": {},
     "output_type": "execute_result"
    }
   ],
   "source": [
    "\"ramu\" in list1 #prints  true"
   ]
  },
  {
   "cell_type": "code",
   "execution_count": 16,
   "id": "02ccd9e3",
   "metadata": {},
   "outputs": [
    {
     "data": {
      "text/plain": [
       "True"
      ]
     },
     "execution_count": 16,
     "metadata": {},
     "output_type": "execute_result"
    }
   ],
   "source": [
    "4 not in list2"
   ]
  },
  {
   "cell_type": "code",
   "execution_count": 19,
   "id": "656d726d",
   "metadata": {},
   "outputs": [
    {
     "name": "stdout",
     "output_type": "stream",
     "text": [
      "5\n",
      "5\n",
      "4\n"
     ]
    }
   ],
   "source": [
    "# Len() --> It is the method used to find the length of the list\n",
    "\n",
    "print(len(list))\n",
    "print(len(list2))\n",
    "print(len(list1))"
   ]
  },
  {
   "cell_type": "code",
   "execution_count": 20,
   "id": "95ddacaf",
   "metadata": {},
   "outputs": [
    {
     "name": "stdout",
     "output_type": "stream",
     "text": [
      "10\n",
      "20\n",
      "30\n",
      "40\n",
      "50\n"
     ]
    }
   ],
   "source": [
    "# Iterate --> With this you can iterate over a list with for loops.\n",
    "\n",
    "list = [10,20,30,40,50]\n",
    "\n",
    "#iterate over list elements\n",
    "for element in list:\n",
    "    print(element)"
   ]
  },
  {
   "cell_type": "code",
   "execution_count": 29,
   "id": "3088fc72",
   "metadata": {},
   "outputs": [
    {
     "name": "stdout",
     "output_type": "stream",
     "text": [
      "50\n",
      "10\n",
      "1\n",
      "4\n"
     ]
    }
   ],
   "source": [
    "# We can also find min,max,count,index\n",
    "\n",
    "print(max(list))\n",
    "print(min(list))\n",
    "print(list.count(10))\n",
    "print(list.index(50))"
   ]
  },
  {
   "cell_type": "code",
   "execution_count": null,
   "id": "5e4d6358",
   "metadata": {},
   "outputs": [],
   "source": [
    "# List Methods --> They are append ,sort ,insert ,pop ,reverse,remove"
   ]
  },
  {
   "cell_type": "code",
   "execution_count": 39,
   "id": "fd4b762e",
   "metadata": {},
   "outputs": [
    {
     "name": "stdout",
     "output_type": "stream",
     "text": [
      "[1, 2, 4, 5, 3]\n",
      "['Ram', 'Jay', 'Harsh', 'Anand', 'Rahul']\n",
      "[1, 'Rajesh', 'Ramu', 4.6, 7, 'Rani']\n"
     ]
    }
   ],
   "source": [
    "# 1) Append --> Adding an element to the end of the list\n",
    "\n",
    "list = [1,2,4,5]\n",
    "list.append(3)\n",
    "print(list)\n",
    "\n",
    "\n",
    "# List of strings\n",
    "\n",
    "list1 = [\"Ram\",\"Jay\",\"Harsh\",\"Anand\"]\n",
    "list1.append(\"Rahul\")\n",
    "print(list1)\n",
    "\n",
    "\n",
    "# List of different elements\n",
    "\n",
    "list2 = [1, \"Rajesh\", \"Ramu\",4.6 , 7]\n",
    "list2.append(\"Rani\")\n",
    "print(list2)"
   ]
  },
  {
   "cell_type": "code",
   "execution_count": 40,
   "id": "8cb12c28",
   "metadata": {},
   "outputs": [
    {
     "name": "stdout",
     "output_type": "stream",
     "text": [
      "['rama', '-', 'swamy']\n"
     ]
    }
   ],
   "source": [
    "# 2)  Insert --> Adding an element at the given index and shifts the elements after to the right.\n",
    "\n",
    "l1 = [\"rama\" ,\"swamy\"]\n",
    "l1.insert(1,\"-\")\n",
    "print(l1)"
   ]
  },
  {
   "cell_type": "code",
   "execution_count": 43,
   "id": "0dd5f3ea",
   "metadata": {},
   "outputs": [
    {
     "name": "stdout",
     "output_type": "stream",
     "text": [
      "[3, 4, 5, 7, 9, 11]\n",
      "[11, 9, 7, 5, 4, 3]\n"
     ]
    }
   ],
   "source": [
    "# 3) Sort --> Sorts the given list, does not return a new list object. sort() function sort the list in ascending order.\n",
    "#You can provide reverser = True if you need to sort the list in descending order\n",
    "\n",
    "int1 = [11,7,4,9,3,5]\n",
    "int1.sort()\n",
    "print(int1)\n",
    "\n",
    "int1.sort(reverse = True)\n",
    "print(int1)"
   ]
  },
  {
   "cell_type": "code",
   "execution_count": 46,
   "id": "38d0f7d1",
   "metadata": {},
   "outputs": [
    {
     "name": "stdout",
     "output_type": "stream",
     "text": [
      "[1, 6, 8, 9, 4]\n",
      "['Ram', 'Rahul', 'Rama', 'Arjit']\n"
     ]
    }
   ],
   "source": [
    "# 4) Remove --> Finds the first instance of the given element and removes it.\n",
    "#Throws ValueError, if the given element is not present.\n",
    "\n",
    "list = [1,3,6,8,9,4]\n",
    "list.remove(3)\n",
    "print(list)\n",
    "\n",
    "\n",
    "list1 = [\"Ram\",\"Rahul\",\"Rama\",\"Arjit\",9]\n",
    "list1.remove(9)\n",
    "print(list1)"
   ]
  },
  {
   "cell_type": "code",
   "execution_count": 50,
   "id": "d919be20",
   "metadata": {},
   "outputs": [
    {
     "name": "stdout",
     "output_type": "stream",
     "text": [
      "[1, 2, 4, 5]\n",
      "['ram', 'rahul', 'rajesh', 'raja']\n",
      "['harsh', 'raju', 4, 5]\n"
     ]
    }
   ],
   "source": [
    "# 5) pop --> Removes and returns the element at the given index. \n",
    "#Removes and returns the last element if the index is no provided.\n",
    "\n",
    "list = [1,2,3,4,5]\n",
    "list.pop(2)\n",
    "print(list)\n",
    "\n",
    "list = [\"ram\",\"rahul\",\"rajesh\",\"raja\",\"rani\"]\n",
    "list.pop(4)\n",
    "print(list)\n",
    "\n",
    "\n",
    "list = [\"harsh\",\"raju\",4,5,6]\n",
    "list.pop()\n",
    "print(list)"
   ]
  },
  {
   "cell_type": "code",
   "execution_count": null,
   "id": "adf9fbe5",
   "metadata": {},
   "outputs": [],
   "source": []
  }
 ],
 "metadata": {
  "kernelspec": {
   "display_name": "Python 3 (ipykernel)",
   "language": "python",
   "name": "python3"
  },
  "language_info": {
   "codemirror_mode": {
    "name": "ipython",
    "version": 3
   },
   "file_extension": ".py",
   "mimetype": "text/x-python",
   "name": "python",
   "nbconvert_exporter": "python",
   "pygments_lexer": "ipython3",
   "version": "3.9.12"
  }
 },
 "nbformat": 4,
 "nbformat_minor": 5
}
