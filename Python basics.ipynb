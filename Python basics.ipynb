{
 "cells": [
  {
   "cell_type": "markdown",
   "id": "f7fd578f",
   "metadata": {},
   "source": [
    "# Python basics - datatypes (int,float,str)"
   ]
  },
  {
   "cell_type": "code",
   "execution_count": 3,
   "id": "f92e9e74",
   "metadata": {},
   "outputs": [
    {
     "data": {
      "text/plain": [
       "'Hello World'"
      ]
     },
     "execution_count": 3,
     "metadata": {},
     "output_type": "execute_result"
    }
   ],
   "source": [
    "# string data type\n",
    "\n",
    "x = str(\"Hello World\")\n",
    "x"
   ]
  },
  {
   "cell_type": "code",
   "execution_count": 4,
   "id": "3b802f8e",
   "metadata": {},
   "outputs": [
    {
     "name": "stdout",
     "output_type": "stream",
     "text": [
      "5\n"
     ]
    }
   ],
   "source": [
    "# int data type\n",
    "\n",
    "x = int(input())"
   ]
  },
  {
   "cell_type": "code",
   "execution_count": 6,
   "id": "04d9fbe2",
   "metadata": {},
   "outputs": [
    {
     "data": {
      "text/plain": [
       "20"
      ]
     },
     "execution_count": 6,
     "metadata": {},
     "output_type": "execute_result"
    }
   ],
   "source": [
    "# int data type\n",
    "\n",
    "x = int(20)\n",
    "x"
   ]
  },
  {
   "cell_type": "code",
   "execution_count": 7,
   "id": "5234a3d8",
   "metadata": {},
   "outputs": [
    {
     "data": {
      "text/plain": [
       "20.5"
      ]
     },
     "execution_count": 7,
     "metadata": {},
     "output_type": "execute_result"
    }
   ],
   "source": [
    "# float data type\n",
    "x = float(20.5)\n",
    "x"
   ]
  },
  {
   "cell_type": "code",
   "execution_count": null,
   "id": "59ba1325",
   "metadata": {},
   "outputs": [],
   "source": []
  },
  {
   "cell_type": "code",
   "execution_count": 8,
   "id": "cb8f2ea6",
   "metadata": {},
   "outputs": [
    {
     "name": "stdout",
     "output_type": "stream",
     "text": [
      "You got 100 marks.\n"
     ]
    }
   ],
   "source": [
    "# print statements\n",
    "\n",
    "print(\"You got {} marks.\".format(100))"
   ]
  },
  {
   "cell_type": "code",
   "execution_count": 9,
   "id": "e6b0385d",
   "metadata": {},
   "outputs": [
    {
     "name": "stdout",
     "output_type": "stream",
     "text": [
      "You got 100 marks.\n"
     ]
    }
   ],
   "source": [
    "print(\"You got {} mark{}.\".format(100, 's'))"
   ]
  },
  {
   "cell_type": "code",
   "execution_count": 15,
   "id": "2a9f5799",
   "metadata": {},
   "outputs": [
    {
     "name": "stdout",
     "output_type": "stream",
     "text": [
      "You have 5 apples.\n"
     ]
    }
   ],
   "source": [
    "apples = 10\n",
    "plural = \"s\" if apples != 1 else \"\"\n",
    "\n",
    "print(\"You have {} apple{}.\".format(apples, plural))"
   ]
  },
  {
   "cell_type": "code",
   "execution_count": 16,
   "id": "78efc607",
   "metadata": {},
   "outputs": [
    {
     "name": "stdout",
     "output_type": "stream",
     "text": [
      "You got 100 marks.\n"
     ]
    }
   ],
   "source": [
    "str = \"You got {} mark{}.\".format(100, 's')\n",
    "\n",
    "print(str)"
   ]
  },
  {
   "cell_type": "code",
   "execution_count": 17,
   "id": "964dc2d6",
   "metadata": {},
   "outputs": [
    {
     "name": "stdout",
     "output_type": "stream",
     "text": [
      "num = 1.0\n"
     ]
    }
   ],
   "source": [
    "x = \"num = {}\".format(1.00000000000)\n",
    "\n",
    "print(x)"
   ]
  },
  {
   "cell_type": "code",
   "execution_count": 35,
   "id": "563ab34c",
   "metadata": {},
   "outputs": [
    {
     "name": "stdout",
     "output_type": "stream",
     "text": [
      "you have Rs100.00 in your account\n"
     ]
    }
   ],
   "source": [
    "money = \"you have Rs{:.2f} in your account\".format(100)\n",
    "\n",
    "print(money)"
   ]
  },
  {
   "cell_type": "markdown",
   "id": "1d18a272",
   "metadata": {},
   "source": [
    "# String Operations"
   ]
  },
  {
   "cell_type": "code",
   "execution_count": 21,
   "id": "64e088a0",
   "metadata": {},
   "outputs": [
    {
     "data": {
      "text/plain": [
       "'I am very curious'"
      ]
     },
     "execution_count": 21,
     "metadata": {},
     "output_type": "execute_result"
    }
   ],
   "source": [
    "# String slicing\n",
    " \n",
    "str1 = \"I am very curious\"\n",
    "str1"
   ]
  },
  {
   "cell_type": "code",
   "execution_count": 22,
   "id": "67971730",
   "metadata": {},
   "outputs": [
    {
     "data": {
      "text/plain": [
       "'I'"
      ]
     },
     "execution_count": 22,
     "metadata": {},
     "output_type": "execute_result"
    }
   ],
   "source": [
    "str1[0]"
   ]
  },
  {
   "cell_type": "code",
   "execution_count": 26,
   "id": "d344e792",
   "metadata": {},
   "outputs": [
    {
     "data": {
      "text/plain": [
       "'u'"
      ]
     },
     "execution_count": 26,
     "metadata": {},
     "output_type": "execute_result"
    }
   ],
   "source": [
    "str1[-2]"
   ]
  },
  {
   "cell_type": "code",
   "execution_count": 27,
   "id": "631bdda9",
   "metadata": {},
   "outputs": [
    {
     "data": {
      "text/plain": [
       "'r'"
      ]
     },
     "execution_count": 27,
     "metadata": {},
     "output_type": "execute_result"
    }
   ],
   "source": [
    "str1[7]"
   ]
  },
  {
   "cell_type": "code",
   "execution_count": 28,
   "id": "7f50bdf2",
   "metadata": {},
   "outputs": [
    {
     "data": {
      "text/plain": [
       "'I am very '"
      ]
     },
     "execution_count": 28,
     "metadata": {},
     "output_type": "execute_result"
    }
   ],
   "source": [
    "str1[0:10:1]"
   ]
  },
  {
   "cell_type": "code",
   "execution_count": 34,
   "id": "919cbb52",
   "metadata": {},
   "outputs": [
    {
     "name": "stdout",
     "output_type": "stream",
     "text": [
      "Likhitha Sreeja\n"
     ]
    }
   ],
   "source": [
    "str1 = \"Likhitha\"\n",
    "str2 = \"Sreeja\"\n",
    "space = \" \"\n",
    "print(str1 + space + str2)"
   ]
  },
  {
   "cell_type": "code",
   "execution_count": null,
   "id": "6b6b4df2",
   "metadata": {},
   "outputs": [],
   "source": []
  }
 ],
 "metadata": {
  "kernelspec": {
   "display_name": "Python 3 (ipykernel)",
   "language": "python",
   "name": "python3"
  },
  "language_info": {
   "codemirror_mode": {
    "name": "ipython",
    "version": 3
   },
   "file_extension": ".py",
   "mimetype": "text/x-python",
   "name": "python",
   "nbconvert_exporter": "python",
   "pygments_lexer": "ipython3",
   "version": "3.9.12"
  }
 },
 "nbformat": 4,
 "nbformat_minor": 5
}
